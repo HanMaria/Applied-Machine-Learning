{
  "nbformat": 4,
  "nbformat_minor": 0,
  "metadata": {
    "colab": {
      "private_outputs": true,
      "provenance": [],
      "toc_visible": true
    },
    "kernelspec": {
      "name": "python3",
      "display_name": "Python 3"
    },
    "language_info": {
      "name": "python"
    }
  },
  "cells": [
    {
      "cell_type": "markdown",
      "source": [
        "# **Lecture 10. Dual Formulation of Support Vector Machine**\n",
        "## **Applied Machine Learning**"
      ],
      "metadata": {
        "id": "YPTs7Z3bgRsD"
      }
    },
    {
      "cell_type": "markdown",
      "source": [
        "## **Part 1: Lagrange Duality**\n",
        "\n",
        "In this lecture, we are going to continue discuss about Support Vector Machines (SVMs), and define a new formulation of the max-margin problem.\n",
        "\n",
        "Before we do that, we start with a general concept -- Lagrange Duality"
      ],
      "metadata": {
        "id": "Bh5fm2wzgd1T"
      }
    },
    {
      "cell_type": "markdown",
      "source": [
        "### **Review: Maximizing the Margin**\n",
        "We saw that maximizing the margin of linear model amounts to solving the following optimization\n",
        "\n",
        "\\begin{align*}\n",
        "\\min_{\\theta,\\theta_0} \\frac{1}{2}||\\theta||^2 \\; &  \\\\\n",
        "\\text{subject to } \\; & y^{(i)}((x^{(i)})^\\top\\theta+\\theta_0)\\geq 1 \\; \\text{for all $i$}\n",
        "\\end{align*}\n",
        "\n",
        "We are going to look a different way of optimizing this objective. But first, we start by defining Lagrange Duality.\n"
      ],
      "metadata": {
        "id": "F3iM70_5hAzg"
      }
    },
    {
      "cell_type": "markdown",
      "source": [
        "### **Constrained Optimization problems**\n",
        "\n",
        "We will look at optimization problems of the form \n",
        "\n",
        "\\begin{align*}\n",
        "\\min_{\\theta \\in \\mathbb{R}^d} J(\\theta) \\; &  \\\\\n",
        "\\text{such that } \\; & c_k(\\theta) \\leq 0 \\; \\text{for} \\; k = 1,2,\\dots,K.\n",
        "\\end{align*}\n",
        "\n",
        "where $J(\\theta)$ is an optimization objective and each $c_k(\\theta): \\mathbb{R}^d \\to \\mathbb{R}$ is a constraint.\n",
        "\n",
        "Our goal is to find a small value of $J(\\theta)$ such that $c_k(\\theta)$ are negative.\n"
      ],
      "metadata": {
        "id": "v1yITPhdhA-P"
      }
    },
    {
      "cell_type": "markdown",
      "source": [
        "### **Optimization with Penalties**\n",
        "Another way of approaching the above goal is via:\n",
        "$$\\min_{\\theta}\\mathcal{L}(\\theta, \\lambda) = J(\\theta) + \\sum_{k=1}^K\\lambda_kc_k(\\theta)$$\n",
        "\n",
        "for some positive vector of *Lagrange multipliers* $\\lambda \\in [0,∞)^K$. We call $\\mathcal{L}(\\theta,\\lambda)$ is the Lagrangian.\n",
        "\n",
        "* If $\\lambda_k \\geq 0$, then we penalize the large values of $c_k$,\n",
        "* For large enough $\\lambda_k$, no $c_k$ will be positive -- a valid solution.\n",
        "\n",
        "Penalties is another way of enforcing constraints."
      ],
      "metadata": {
        "id": "d8GSJkgvhBIf"
      }
    },
    {
      "cell_type": "markdown",
      "source": [
        "### **Penalties Vs. Constraints**\n",
        "\n",
        "Penalties and constraints are closely related. Consider our constrained optimization problem:\n",
        "\n",
        "\\begin{align*}\n",
        "\\min_{\\theta \\in \\mathbb{R}^d} J(\\theta) \\; &  \\\\\n",
        "\\text{such that } \\; & c_k(\\theta) \\leq 0 \\; \\text{for} \\; k = 1,2,\\dots,K.\n",
        "\\end{align*}\n",
        "\n",
        "We define it *primal Lagrange form* is:\n",
        "\n",
        "$$\\min_{\\theta \\in \\mathbb{R}^d}\\mathcal{P}(\\theta) = \\min_{\\theta \\in \\mathbb{R}^d}\\max_{\\lambda \\geq 0}\\mathcal{L}(\\theta,\\lambda) = \\min_{\\theta \\in \\mathbb{R}^d}\\max_{\\lambda \\geq 0}\\left(J(\\theta) + \\sum_{k=1}^K\\lambda_kc_k(\\theta)\\right)$$\n",
        "\n",
        "These two forms have the same optimum $\\theta^*$!\n",
        "\n",
        "Why is this true? Consider again\n",
        "\n",
        "$$\\min_{\\theta \\in \\mathbb{R}^d}\\mathcal{P}(\\theta) = \\min_{\\theta \\in \\mathbb{R}^d}\\max_{\\lambda \\geq 0}\\mathcal{L}(\\theta,\\lambda) = \\min_{\\theta \\in \\mathbb{R}^d}\\max_{\\lambda \\geq 0}\\left(J(\\theta) + \\sum_{k=1}^K\\lambda_kc_k(\\theta)\\right)$$\n",
        "\n",
        "* If a $c_k$ is violated ($c_k > 0$) then $\\max_{\\lambda \\geq 0}\\mathcal{L}(\\theta, \\lambda)\\; \\text{is} \\; \\infty\\; \\text{as} \\; \\lambda \\to ∞$.\n",
        "* If no $c_k$ is violated and $c_k < 0$ then the optimal $\\lambda_k = 0$ (any other values make the objective smaller).\n",
        " * If $c_k < 0$ for all $k$ then $\\lambda_k = 0$ for all $k$ and \n",
        " $$\\min_{\\theta \\in \\mathbb{R}^d}\\mathcal{P}(\\theta) = \\min_{\\theta \\in \\mathbb{R}^d}\\max_{\\lambda \\geq 0}\\mathcal{L}(\\theta,\\lambda) = \\min_{\\theta \\in \\mathbb{R}^d}J(\\theta).$$\n",
        "\n",
        " Thus, $\\min_{\\theta \\in \\mathbb{R}^d}\\mathcal{P}(\\theta)$ is the solution to our initial optimization problem."
      ],
      "metadata": {
        "id": "eJZU_DmgE3VM"
      }
    },
    {
      "cell_type": "markdown",
      "source": [
        "### **Lagrange Dual**\n",
        "Now consider the following problem for $\\lambda \\geq 0$:\n",
        "$$\\max_{\\lambda \\geq 0}\\mathcal{D}(\\lambda) = \\max_{\\lambda \\geq 0}\\min_{\\theta \\in \\mathbb{R}^d}\\mathcal{L}(\\theta,\\lambda) = \\max_{\\lambda \\geq 0}\\min_{\\theta \\in \\mathbb{R}^d}\\left(J(\\theta) + \\sum_{k=1}^K\\lambda_kc_k(\\theta)\\right).$$\n",
        "\n",
        "We call this the *Lagrange Dual* of the primal optimization problem $\\min_{\\theta \\in \\mathbb{R}^d}\\mathcal{P}(\\theta)$. We can always construct a dual for the primal.\n",
        " \n",
        "\n"
      ],
      "metadata": {
        "id": "Xv10szuCJTj8"
      }
    },
    {
      "cell_type": "markdown",
      "source": [
        "### **Lagrange Duality**\n",
        "The dual interesting as we always have:\n",
        "$$\\max_{\\lambda \\geq 0}\\mathcal{D}(\\lambda) = \\max_{\\lambda \\geq 0}\\min_{\\theta \\in \\mathbb{R}} \\leq \\min_{\\theta \\in \\mathbb{R}^d}\\max_{\\lambda \\geq 0}\\mathcal{L}(\\theta,\\lambda) = \\min_{\\theta \\in \\mathbb{R}^d}\\mathcal{P}(\\theta).$$\n",
        "\n",
        " Moreover, in many interesting cases, we have \n",
        " $$\\max_{\\lambda \\geq 0}\\mathcal{D}(\\lambda) = \\min_{\\theta \\in \\mathbb{R}^d}\\mathcal{P}(\\theta).$$\n",
        "\n",
        " Thus, the primal and the dual are equivalent!"
      ],
      "metadata": {
        "id": "xvoKkhsCKZeG"
      }
    },
    {
      "cell_type": "markdown",
      "source": [
        "### **Example: Regularization**\n",
        "Consider regularized supervised learning problem with the penalty term:\n",
        "$$\\min_{\\theta \\in \\Theta}\\mathcal{L}(\\theta) + \\lambda \\cdot R(\\theta).$$\n",
        "\n",
        "We may also enforce an explicit constraint on the complexity of the model:\n",
        "\n",
        "\\begin{align*}\n",
        "\\min_{\\theta \\in \\Theta}\\mathcal{L}(\\theta) \\; & \\\\\n",
        "\\text{such that} \\; R(\\theta) &\\leq \\lambda'\n",
        "\\end{align*}\n",
        "\n",
        "We will not prove this, but solving this problem is equivalent to solving the penalized the problem for some $\\lambda \\geq 0$ that is different form $\\lambda'$.\n",
        "\n",
        "In other words, we can regularize by explicitly enforcing $R(\\theta)$ to be less than a value or we can penalize the $R(\\theta)$.\n",
        "\n",
        "We are going to see another application of Lagrangians in the context of SVMs."
      ],
      "metadata": {
        "id": "lg9a3yCHMLYD"
      }
    },
    {
      "cell_type": "markdown",
      "source": [
        "## **Part 2: Duals Formulation of SVMs**\n",
        "\n",
        "Let's now apply the Lagrange Duality to support vector machines."
      ],
      "metadata": {
        "id": "GLnQaS5ROTFn"
      }
    },
    {
      "cell_type": "markdown",
      "source": [
        "### **Review: Binary Classification**\n",
        "\n",
        "Consider a training dataset $\\mathcal{D}$.\n",
        "\n",
        "We distinguish between two types of supervised machine learning problems depending on the target $y^{(i)}$:\n",
        "* **Regression**: The target variable $y \\in \\mathcal{Y}$ is continuous: $\\mathcal{Y} \\in \\mathbb{R}$\n",
        "* **Binary Classification**: The target variable $y \\in \\mathcal{Y}$ is discrete and takes on one of the $K=2$ possible values in $\\mathcal{Y} = \\{-1,+1\\}$. \n",
        "\n"
      ],
      "metadata": {
        "id": "CE_5tdkZOf2k"
      }
    },
    {
      "cell_type": "markdown",
      "source": [
        "### **Review: Linear Model Family**\n",
        "\n",
        "In this lecture, we will work linear model of the form:\n",
        "$$f_{\\theta}(x) = \\theta_0 + \\theta_1x_1 + \\theta_2x_2 + \\dots + \\theta_dx_d$$\n",
        "\n",
        "where $x \\in \\mathbb{R}^d$ is a vector of features and $y \\in \\{-1,+1\\}$ is the target. The $\\theta_j$ are the parameters of the model.\n",
        "\n",
        "We can represent the model in the vectorized form:\n",
        "$$f_{\\theta}(x) = \\theta^\\top x + \\theta_0$$"
      ],
      "metadata": {
        "id": "CemQVNsHPitH"
      }
    },
    {
      "cell_type": "markdown",
      "source": [
        "### **Review: Geometric Margins**\n",
        "\n",
        "We define the geometric margins $\\gamma^{(i)}$ with respect to training example $(x^{(i)}, y^{(i)})$ as\n",
        "$$\\gamma^{(i)} = y^{(i)} \\left(\\frac{\\theta^\\top x + \\theta_0}{\\|\\theta\\|}\\right)$$\n",
        "\n",
        "This also corresponds to the distance from $x^{(i)}$ to the hyperplane. "
      ],
      "metadata": {
        "id": "4yY1SfRSQTRR"
      }
    },
    {
      "cell_type": "markdown",
      "source": [
        "### **Review: MAximizing the Margins**\n",
        "\n",
        "We saw that maximizing the margins of the linear models amounts to solving the following optimization:\n",
        "\n",
        "\\begin{align*}\n",
        "&\\min_{\\theta,\\theta_0}\\frac{1}{2}\\|\\theta\\|^2 \\;  \\\\\n",
        "&\\text{subject to } \\; y^{(i)}((x^{(i)})^\\top \\theta + \\theta_0) \\geq 1 \\; \\text{for all} \\; i\n",
        "\\end{align*}\n",
        "\n",
        "We are going to look at a different way to optimizing this objective. But first, we start by defining the Lagrange Duality."
      ],
      "metadata": {
        "id": "ZMrlCUy1RJ29"
      }
    },
    {
      "cell_type": "markdown",
      "source": [
        "### **Review: Penalties Vs. Constraints**\n",
        "\n",
        "Penalties and constraints are closely related. Consider our constrained optimization problem\n",
        "\n",
        "\\begin{align*}\n",
        "&\\min_{\\theta \\in \\mathbb{R}^d}J(\\theta)  \\\\\n",
        "&\\text{such that } c_k(\\theta) \\leq 0 \\; \\text{for} \\; k = 1,2,\\dots,K.\n",
        "\\end{align*}\n",
        "\n",
        "We define its *primal Lagrange form* to be:\n",
        "\n",
        "$$\\min_{\\theta \\in \\mathbb{R}^d}\\mathcal{P}(\\theta) = \\min_{\\theta \\in \\mathbb{R}^d}\\max_{\\lambda \\geq 0}\\mathcal{L}(\\theta,\\lambda) = \\min_{\\theta \\in \\mathbb{R}^d}\\max_{\\lambda \\geq 0}\\left(J(\\theta) + \\sum_{k=1}^K\\lambda_kc_k(\\theta)\\right)$$\n",
        "\n",
        "These two forms have the same optimum $\\theta^*$!"
      ],
      "metadata": {
        "id": "lCm2LLNeRKDr"
      }
    },
    {
      "cell_type": "markdown",
      "source": [
        "### **The Lagrangian of the SVM problem**\n",
        "Consider the following objective, the Lagrangian of the max-margin optimization problem.\n",
        "$$L(\\theta,\\theta_0,\\lambda) = \\frac{1}{2}\\|\\theta\\|^2 + \\sum_{i=1}^n\\lambda_i\\left(1 - y^{(i)}((x^{(i)})^\\top\\theta + \\theta_0)\\right)$$\n",
        "\n",
        "Intuitively, we have put each constraint inside the objective function and added a penalty $\\lambda_i$ to it."
      ],
      "metadata": {
        "id": "B2oujpX0RKPq"
      }
    },
    {
      "cell_type": "markdown",
      "source": [
        "### **Review: Lagrange Dual**\n",
        "Consider the following problem over $\\lambda \\geq 0$:\n",
        "$$\\max_{\\lambda \\geq 0}\\mathcal{D}(\\lambda) = \\max_{\\lambda \\geq 0}\\min_{\\theta \\in \\mathbb{R}^d}\\mathcal{L}(\\theta,\\lambda) =  \\max_{\\lambda \\geq 0}\\min_{\\theta \\in \\mathbb{R}^d} \\left(J(\\theta) + \\sum_{k=1}^K\\lambda_kc_k(\\theta)\\right).$$\n",
        "\n",
        "We call this the *Lagrange dual* of the primal optimization problem $\\min_{\\theta \\in \\mathbb{R}^d}\\mathcal{P}(\\theta)$. We can always construct a dual for the primal."
      ],
      "metadata": {
        "id": "-Mt26-JMI-hu"
      }
    },
    {
      "cell_type": "markdown",
      "source": [
        "### **The Dual of the SVM problem**\n",
        "\n",
        "Consider optimizing the above Lagrangian over $\\theta, \\theta_0$ for any value of $\\lambda$\n",
        "\n",
        "$$\\min_{\\theta,\\theta_0}L(\\theta,\\theta_0,\\lambda) = \\min_{\\theta,\\theta_0}\\left(\\frac{1}{2}\\|\\theta\\|^2 + \\sum_{k=1}^n \\lambda_i(1 - y^{(i)}((x^{(i)})^\\top\\theta + \\theta_0)) \\right)$$\n",
        "\n",
        "This objective is quadratic in $\\theta$; hence it has a single minimum in $\\theta$.\n",
        "\n",
        "We can find it by setting the derivative to zero and solving for $\\theta, \\theta_0$. This yields:\n",
        "\n",
        "\\begin{align*}\n",
        "&\\theta = \\sum_{i=1}^n\\lambda_iy^{(i)}x^{(i)} \\\\\n",
        "& 0 = \\sum_{i=1}^n\\lambda_iy^{(i)}\n",
        "\\end{align*}\n",
        "\n",
        "Substituting this to the Lagrangian we obtain:\n",
        "$$L(\\lambda) = \\min_{\\theta,\\theta_0}L(\\theta,\\theta_0,\\lambda) = \\sum_{i=1}^n\\lambda_i - \\frac{1}{2}\\sum_{i=1}^n\\sum_{k=1}^n\\lambda_i\\lambda_ky^{(i)}y^{(k)}(x^{(i)})^\\top x^{(k)}$$\n",
        "\n",
        "as well as $0 = \\sum_{i=1}^n\\lambda_iy^{(i)}$ and $\\lambda \\geq 0$ for all $i$.\n",
        "\n",
        "SUbstituting this to the Lagrangian we obtain the following expression for the dual $\\max_{\\lambda \\geq 0}\\mathcal{D}(\\lambda) = \\max_{\\lambda \\geq 0} \\min_{\\theta,\\theta_0}L(\\theta,\\theta_0,\\lambda):$\n",
        "\n",
        "\\begin{align*}\n",
        "\\max_{\\lambda \\geq 0}\\sum_{i=1}^n\\lambda_i - &\\frac{1}{2}\\sum_{i=1}^n\\sum_{k=1}^n\\lambda_i\\lambda_ky^{(i)}y^{(k)}(x^{(i)})^\\top x^{(k)} \\\\\n",
        "\\text{subjected to} \\; &0 = \\sum_{i=1}^n\\lambda_iy^{(i)} \\\\\n",
        "&\\lambda_i \\geq 0 \\; \\text{for all} \\; i\n",
        "\\end{align*}"
      ],
      "metadata": {
        "id": "_Gmhl3qcRKdz"
      }
    },
    {
      "cell_type": "markdown",
      "source": [
        "### **Lagrange Duality in SVMs**\n",
        "Recall that in general, we have:\n",
        "$$\\max_{\\lambda \\geq 0}\\mathcal{D}(\\lambda) = \\max_{\\lambda \\geq 0}\\min_{\\theta \\in \\mathbb{R}^d} \\leq \\min_{\\theta \\in \\mathbb{R}^d}\\max_{\\lambda \\geq 0} = \\min_{\\theta \\in \\mathbb{R}^d}\\mathcal{P}(\\theta)$$.\n",
        "\n",
        "In the case of SVM problem, one can show that\n",
        "$$\\max_{\\lambda \\geq 0}\\mathcal{D}(\\lambda) = \\min_{\\theta \\in \\mathbb{R}^d}\\mathcal{P}(\\theta).$$\n",
        "\n",
        "Thus, the primal and the dual are equivelant!"
      ],
      "metadata": {
        "id": "BK4xrCLmPcCw"
      }
    },
    {
      "cell_type": "markdown",
      "source": [
        "### **Properties of the Dual**\n",
        "\n",
        "We can make several observations about the Dual\n",
        "\n",
        "\\begin{align*}\n",
        "\\max_{\\lambda \\geq 0}\\sum_{i=1}^n\\lambda_i - &\\frac{1}{2}\\sum_{i=1}^n\\sum_{k=1}^n\\lambda_i\\lambda_ky^{(i)}y^{(k)}(x^{(i)})^\\top x^{(k)} \\\\\n",
        "\\text{subjected to} \\; &0 = \\sum_{i=1}^n\\lambda_iy^{(i)} \\\\\n",
        "&\\lambda_i \\geq 0 \\; \\text{for all} \\; i\n",
        "\\end{align*}\n",
        "\n",
        "* This is the constrained quadratic optimization problem.\n",
        "* The number of parameters $\\lambda$, equals $n$, the number of data points.\n",
        "* Objective only depends on product $(x^{(i)})^\\top x^{(j)}$."
      ],
      "metadata": {
        "id": "-iSB3mbwQnOz"
      }
    },
    {
      "cell_type": "markdown",
      "source": [
        "### **When to Solve the Dual**\n",
        "\n",
        "When should we be solving the dual or the primal?\n",
        "* The dimensionality of the primal depends on the number of features. If we have a few features and  many data points, we should use the primal.\n",
        "* Conversely, if we have a lot of features, but less datapoints, we want to use the dual.\n",
        "\n",
        "In the next lecture, we will see how to use this property to solve machine learning problems with a very large number of features (even posibly infinite!)."
      ],
      "metadata": {
        "id": "GwzWgMy2RcJa"
      }
    },
    {
      "cell_type": "markdown",
      "source": [
        "## **Part 3: Practical Considerations for SVM Duals**\n",
        "\n",
        "We continue our discussion of the dual formulation of the SVM with additional practical details about the dual formulation is defined and used."
      ],
      "metadata": {
        "id": "uKB-U257SWIt"
      }
    },
    {
      "cell_type": "markdown",
      "source": [],
      "metadata": {
        "id": "OLgH465WSWaL"
      }
    },
    {
      "cell_type": "markdown",
      "source": [
        "### **Review: Primal and Dual Formulations**\n",
        "\n",
        "Recall that the max-margin hyperplane can be formulated as the solution to the following *primal* optimization problem\n",
        "\n",
        "\\begin{align*}\n",
        "\\min_{\\theta,\\theta_0} \\frac{1}{2}||\\theta||^2 \\; &  \\\\\n",
        "\\text{subject to } \\; & y^{(i)}((x^{(i)})^\\top\\theta+\\theta_0)\\geq 1 \\; \\text{for all $i$}\n",
        "\\end{align*}\n",
        "\n",
        "The solution to this problem also happens to given by the following *dual* problem\n",
        "\\begin{align*}\n",
        "\\max_{\\lambda} & \\sum_{i=1}^n \\lambda_i - \\frac{1}{2} \\sum_{i=1}^n \\sum_{k=1}^n \\lambda_i \\lambda_k y^{(i)} y^{(k)} (x^{(i)})^\\top x^{(k)}  \\\\\n",
        "\\text{subject to } \\; & \\sum_{i=1}^n \\lambda_i y^{(i)} = 0 \\\\\n",
        "& \\lambda_i \\geq 0 \\; \\text{for all $i$}\n",
        "\\end{align*}"
      ],
      "metadata": {
        "id": "ZLZLep0WSWgr"
      }
    },
    {
      "cell_type": "markdown",
      "source": [
        "### **Review: Non-Separable Problem**\n",
        "\n",
        "Our dual problem assumes that a linear hyperplane exists. However, what if the classes are non-separable? Then our optimization problem does not have a solution and we need to modify it!\n",
        "\n",
        "Our solution is going to be make each constraint \"soft\", by introducing \"slack\" variables, which allow the constraint to be violated.\n",
        "\n",
        "$$y^{(i)}((x^{(i)})^\\top\\theta + \\theta_0) \\geq 1 - \\xi_i.$$\n",
        "\n",
        "In the optimization problem, we assign a penalty $C$ to these slack variables to obtain:\n",
        "\n",
        "\\begin{align*}\n",
        "\\min_{\\theta,\\theta_0,\\xi}&\\frac{1}{2}\\|\\theta\\|^2 + C \\sum_{i=1}^n\\xi_i \\\\\n",
        "\\text{subjected to} \\; &y^{(i)}((x^{(i)})^\\top\\theta + \\theta_0) \\geq 1 - \\xi_i \\; \\text{for all} \\; i \\\\\n",
        "& \\xi_i \\geq 0\n",
        "\\end{align*}\n",
        "\n",
        "This is the primal problem. Let's form the dual!"
      ],
      "metadata": {
        "id": "LxmdLUr8SWmh"
      }
    },
    {
      "cell_type": "markdown",
      "source": [
        "### **Non-Separable Dual**\n",
        "\n",
        "We can also formulate the dual to this problem. First, the Lagrangian $L(\\lambda, \\mu, \\theta, \\theta_0)$ equals:\n",
        "$$\\frac{1}{2}\\|\\theta\\|^2 + C\\sum_{i=1}^n\\xi_i - \\sum_{i=1}^n\\lambda_i\\left(y^{(i)}((x^{(i)})^\\top\\theta + \\theta_0) - 1\\right) - \\sum_{i=1}^n\\mu_i\\xi_i.$$ \n",
        "\n",
        "The dual objective of this problem will equal:\n",
        "$\\mathcal{D}(\\lambda, \\mu) = \\min_{\\lambda,\\mu}L(\\lambda, \\mu, \\theta, \\theta_0).$\n",
        "\n",
        "As earlier, we can solve for the optimal $\\theta, theta_0$ in closed form and plug back the results into the objective.\n",
        "\n",
        "We can then show that the dual takes the following form:\n",
        "\n",
        "\\begin{align*}\n",
        "\\max_{\\lambda} & \\sum_{i=1}^n \\lambda_i - \\frac{1}{2} \\sum_{i=1}^n \\sum_{k=1}^n \\lambda_i \\lambda_k y^{(i)} y^{(k)} (x^{(i)})^\\top x^{(k)}  \\\\\n",
        "\\text{subject to } \\; & \\sum_{i=1}^n \\lambda_i y^{(i)} = 0 \\\\\n",
        "& C \\geq \\lambda_i \\geq 0 \\; \\text{for all $i$}\n",
        "\\end{align*}"
      ],
      "metadata": {
        "id": "Oxt_DFvhVwsb"
      }
    },
    {
      "cell_type": "markdown",
      "source": [
        "### **Coordinate Descent**\n",
        "\n",
        "Coordinate descent is a general way to optimize functions $f(x)$ of multiple variable $x \\in \\mathbb{R}^d$:\n",
        "1. Choose a dimension $j \\in \\{1,2,\\dots,d\\}$\n",
        "2. Optimize $f(x_1,x_2,\\dots,x_j,\\dots,x_d)$ over $x_j$ while keeping the other variables fixed."
      ],
      "metadata": {
        "id": "tbm5MMssX8iV"
      }
    },
    {
      "cell_type": "markdown",
      "source": [
        "Here we visualize the coordinate descent applied to a 2D quadratic function\n",
        "![image.png](data:image/png;base64,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)"
      ],
      "metadata": {
        "id": "VIPHSoV6YswU"
      }
    },
    {
      "cell_type": "markdown",
      "source": [
        "The red line show the trajectory of coordinate descent. Each \"step\" in the trajectory is an iteration in the algorithm."
      ],
      "metadata": {
        "id": "CWq3NiLgZDYn"
      }
    },
    {
      "cell_type": "markdown",
      "source": [
        "### **Sequential Minimal Optimization**\n",
        "We can apply a form of coordinante descent the solve the dual:\n",
        "\\begin{align*}\n",
        "\\max_{\\lambda} & \\sum_{i=1}^n \\lambda_i - \\frac{1}{2} \\sum_{i=1}^n \\sum_{k=1}^n \\lambda_i \\lambda_k y^{(i)} y^{(k)} (x^{(i)})^\\top x^{(k)}  \\\\\n",
        "\\text{subject to } \\; & \\sum_{i=1}^n \\lambda_i y^{(i)} = 0 \\\\\n",
        "& C \\geq \\lambda_i \\geq 0 \\; \\text{for all $i$}\n",
        "\\end{align*}\n",
        "\n",
        "A popular, efficient algorithm is Sequential Minimal optimization (SMO):\n",
        "* Take a pair $\\lambda_i, \\lambda_j$, possibly using heuristic to guide choice of $i,j$.\n",
        "* Reoptimize over $\\lambda_i, \\lambda_j$ while keeping the other variables fixed.\n",
        "* Repeat the above until convergence.\n"
      ],
      "metadata": {
        "id": "6tKDTXQZZfPx"
      }
    },
    {
      "cell_type": "markdown",
      "source": [
        "### **Obtaining a Primal Solution from the Dual**\n",
        "\n",
        "Next, assuming we can solve the dual. How do we find a hyperplane that separate $\\theta, \\theta_0$?\n",
        "\n",
        "Recall that we have found the expression for the optimal $\\theta^*$ (in a separate case) as a the function of $\\lambda$\n",
        "$$\\theta^* = \\sum_{i=1}^n \\lambda_iy^{(i)}x^{(i)}.$$\n",
        "\n",
        "Once we have found $\\theta^*$, it is easy to check the solution for $\\theta$ is given by \n",
        "$$\\theta_0^* = \\frac{\\max_{i:y^{(i)}=-1}(\\theta^*)^\\top x^{(i)} + \\min_{i:y^{(i)}=-1}(\\theta^*)^\\top x^{(i)}}{2}.$$\n",
        "\n"
      ],
      "metadata": {
        "id": "qU8JAZwtabdm"
      }
    },
    {
      "cell_type": "markdown",
      "source": [
        "### **Support Vector Machine**\n",
        "\n",
        "A powerful property of SVM dual is that at the optimum, most variables $\\lambda$, are zeros! Thus, $\\theta$ is a sum of small number of points:\n",
        "$$\\theta^* = \\sum_{i=1}^n \\lambda_iy^{(i)}x^{(i)}.$$\n",
        "The points for which $\\lambda_i > 0$ are precisely the points that lie on the margin (are closest to the hyperplane).\n",
        "\n",
        "These are called **support vectors**"
      ],
      "metadata": {
        "id": "N3B76yUKb9Y0"
      }
    },
    {
      "cell_type": "markdown",
      "source": [
        "### **Notation and the Iris Dataset**\n",
        "To demonstrate how to use the dual version of the SVM, we are going to again use the Iris flower dataset.\n",
        "\n",
        "We will look at the binary classificaiton version of this dataset."
      ],
      "metadata": {
        "id": "zqRnLRJqcsq7"
      }
    },
    {
      "cell_type": "code",
      "execution_count": null,
      "metadata": {
        "id": "1QJEyEOXf7WE"
      },
      "outputs": [],
      "source": [
        "import numpy as np\n",
        "import pandas as pd\n",
        "import matplotlib.pyplot as plt\n",
        "from sklearn import datasets\n",
        "\n",
        "# Load the dataset\n",
        "iris = datasets.load_iris(as_frame=True)\n",
        "iris_X, iris_y = iris.data, iris.target\n",
        "\n",
        "# subsample to a third of the data points\n",
        "iris_X = iris_X.loc[::4]\n",
        "iris_y = iris_y.loc[::4]\n",
        "\n",
        "# create a binary classification dataset with labels +/- 1\n",
        "iris_y2 = iris_y.copy()\n",
        "iris_y2[iris_y2==2] = 1\n",
        "iris_y2[iris_y2==0] = -1\n",
        "\n",
        "# print part of the dataset\n",
        "pd.concat([iris_X, iris_y2], axis=1).head()"
      ]
    },
    {
      "cell_type": "markdown",
      "source": [],
      "metadata": {
        "id": "sf_2_ETbeKgL"
      }
    },
    {
      "cell_type": "code",
      "source": [
        "%matplotlib inline\n",
        "import matplotlib.pyplot as plt\n",
        "plt.rcParams['figure.figsize'] = [12, 4]\n",
        "import warnings\n",
        "warnings.filterwarnings(\"ignore\")\n",
        "\n",
        "# create 2d version of dataset and subsample it\n",
        "X = iris_X.to_numpy()[:,:2]\n",
        "x_min, x_max = X[:, 0].min() - .5, X[:, 0].max() + .5\n",
        "y_min, y_max = X[:, 1].min() - .5, X[:, 1].max() + .5\n",
        "xx, yy = np.meshgrid(np.arange(x_min, x_max, .02), np.arange(y_min, y_max, .02))\n",
        "\n",
        "# Plot also the training points\n",
        "p1 = plt.scatter(X[:, 0], X[:, 1], c=iris_y2, s=60, cmap=plt.cm.Paired)\n",
        "plt.xlabel('Petal Length')\n",
        "plt.ylabel('Petal Width')\n",
        "plt.legend(handles=p1.legend_elements()[0], labels=['Setosa', 'Not Setosa'], loc='lower right')"
      ],
      "metadata": {
        "id": "ePppX-5geLE9"
      },
      "execution_count": null,
      "outputs": []
    },
    {
      "cell_type": "markdown",
      "source": [
        "We can run the dual version of SVM by importing an implement from `sklearn`"
      ],
      "metadata": {
        "id": "3CD4JMNidfBE"
      }
    },
    {
      "cell_type": "code",
      "source": [
        "from sklearn import svm\n",
        "\n",
        "# Fit the model, don't regularize for illustration purpose.\n",
        "clf = svm.SVC(kernel='linear',C=1000) # this optimize the dual\n",
        "#clf = svm.LinearSVC() # this optimize the primal\n",
        "clf.fit(X,iris_y2)\n",
        "\n",
        "plt.scatter(X[:,0], X[:,1], c=iris_y2, cmap=plt.cm.Paired, s=40, edgecolor='k')\n",
        "Z = clf.decision_function(np.c_[xx.ravel(),yy.ravel()]).reshape(xx.shape)\n",
        "\n",
        "# plot the decision boundary and margins\n",
        "plt.contour(xx,yy,Z,levels=[-1,0,1],alpha=0.5,linestyles=['--','-','--'])\n",
        "plt.scatter(clf.support_vectors_[:,0], clf.support_vectors_[:,1], s=100,\n",
        "            linewidth=1, facecolors='none', edgecolors='k')\n",
        "plt.xlim([4.6,6])\n",
        "plt.ylim([2.25,4])\n",
        "plt.show()"
      ],
      "metadata": {
        "id": "oO5IjwhJdTI2"
      },
      "execution_count": null,
      "outputs": []
    },
    {
      "cell_type": "markdown",
      "source": [
        "### **Algorithm: Support Vector Machine Classification (Dual Form)**\n",
        "\n",
        "* **Type**: Supervised learning (binary classification)\n",
        "* **Model Family**: Linear decision boundary\n",
        "* **Opjective function**: Dual of SVM problem\n",
        "* **Optimizer**: Sequential Minimal Optimization"
      ],
      "metadata": {
        "id": "5oUjUvhVf1Ef"
      }
    },
    {
      "cell_type": "code",
      "source": [],
      "metadata": {
        "id": "i0BIuH_GfrED"
      },
      "execution_count": null,
      "outputs": []
    }
  ]
}