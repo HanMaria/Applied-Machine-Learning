{
  "nbformat": 4,
  "nbformat_minor": 0,
  "metadata": {
    "colab": {
      "private_outputs": true,
      "provenance": []
    },
    "kernelspec": {
      "name": "python3",
      "display_name": "Python 3"
    },
    "language_info": {
      "name": "python"
    }
  },
  "cells": [
    {
      "cell_type": "markdown",
      "source": [
        "# **Lecture 8: Naive Bayes**\n",
        "## **Applied Machine Learning**"
      ],
      "metadata": {
        "id": "7xQSczGDhv8W"
      }
    },
    {
      "cell_type": "markdown",
      "source": [
        "## **Part 1: Text Classification**\n",
        "We will now do a quick detour to talk about an important application of machine learning: Text classification.\n",
        "Afterwards, we will see how text classification motivates new classification algorithms."
      ],
      "metadata": {
        "id": "9CGdgn4dh5tr"
      }
    },
    {
      "cell_type": "markdown",
      "source": [
        "### **Review: CLassification**\n",
        "Consider a training dataset $\\mathcal{D}$\n",
        "We distinguish between the two types of supervised learning problems depend on the tatgets $y^{(i)}$\n",
        "\n",
        "*   **Regression:** The target variables $y \\in \\mathcal{Y}$ is continuous: $\\mathcal{Y} \\in \\mathbb{R}$\n",
        "*   **Classification:** The target vatiable is discrete and takes on one of $K$ possible values $\\mathcal{Y}=\\{y_1,y_2,\\dots,y_K\\}$. Each discrete value corresponds to a class that we want to predict.\n",
        "\n"
      ],
      "metadata": {
        "id": "qr_EW4w0iULt"
      }
    },
    {
      "cell_type": "markdown",
      "source": [
        "### **Text Classification**\n",
        "An interesting instance of a classification problem is classifying text.\n",
        "\n",
        "*   Include a lot applied problem: spam filtering, fraud detection, medical record classification, etc.\n",
        "*   Inputs $x$ are sequences of words of an arbitrary length.\n",
        "*   The dimensionality of the text input is usually very large, proportional to the size of the vocabulary.\n"
      ],
      "metadata": {
        "id": "4o6fYThFjaej"
      }
    },
    {
      "cell_type": "markdown",
      "source": [
        "### **Calassification Dataset: Twenty Newsgroup**\n",
        "To illustrate the text classification problem, we will use a popular dataset called [20-newsgroups]() \n",
        "\n",
        "*   It contains ~ 20,000 documents collected approximately evenly from 20 different online newsgroups.\n",
        "*   Each newgroup covers a different topic such as medicine, computer graphics, or religion.\n",
        "*   This dataset is widely used to benchmark text classification and other types of algorithms.\n",
        "\n",
        "\n"
      ],
      "metadata": {
        "id": "-hFWcbXqkXy_"
      }
    },
    {
      "cell_type": "code",
      "execution_count": null,
      "metadata": {
        "id": "QJ6OgTFchigM"
      },
      "outputs": [],
      "source": [
        "import numpy as np\n",
        "import pandas as pd\n",
        "from sklearn.datasets import fetch_20newsgroups\n",
        "\n",
        "# For this lecture, we will restrict our attention to just 4 different newsgroups\n",
        "categories = ['alt.atheism','soc.religion.christian','comp.graphics','sci.med']\n",
        "\n",
        "# Load the dataset\n",
        "twenty_train = fetch_20newsgroups(subset='train', categories=categories, shuffle=True, random_state=42)\n",
        "\n",
        "# Print some information on it\n",
        "print(twenty_train.DESCR)"
      ]
    },
    {
      "cell_type": "code",
      "source": [
        "# The set of of targets in this dataset are the newsgroup topic\n",
        "twenty_train.target_names"
      ],
      "metadata": {
        "id": "f7ga5jOant9Z"
      },
      "execution_count": null,
      "outputs": []
    },
    {
      "cell_type": "code",
      "source": [
        "# Let's examine one data point \n",
        "print(twenty_train.data[4])"
      ],
      "metadata": {
        "id": "KHIGJPSTn9ix"
      },
      "execution_count": null,
      "outputs": []
    },
    {
      "cell_type": "code",
      "source": [
        "# We have about 2k data points in total\n",
        "print(len(twenty_train.data))"
      ],
      "metadata": {
        "id": "FIrimfr0olIi"
      },
      "execution_count": null,
      "outputs": []
    },
    {
      "cell_type": "markdown",
      "source": [
        "### **Feature Representations for Text**\n",
        "Each data point $x$ in this dataset is a sequence of characters of an arbitrary length.\n",
        "\n",
        "How do we transform these into $d$-dimensional features $\\phi(x)$ that can be used with our machine learning algorithms?\n",
        "\n",
        "* We may devise a hand-crafted features by inspecting the data:\n",
        " * Does the message contain the word \"church\"? Does the email of the user originate outside the United States? Is the organization is a university?\n",
        "* We can count the number of occurences of each word:\n",
        " * Does this message contains \"ABC\" ...\n",
        "* Finally, many modern deep learning models can directly work with sequences of characters of an arbitrary length."
      ],
      "metadata": {
        "id": "LLKpRbfoo_Rv"
      }
    },
    {
      "cell_type": "markdown",
      "source": [
        "### **Bag of Words Representations**\n",
        "Perhaps the most widely used approach to representing text documents is called \"bag of words\".\n",
        "\n",
        "We start by defining a vocabulary $V$ contiaining all the possible words we are interested in, e.g.,:\n",
        "$$V = \\{ \\text{church, doctor, purple, snow, kitchen},\\dots\\}$$\n",
        "\n",
        "A bag of words representation of a document $x$ is a function $\\phi(x) \\to \\{0,1\\}^{|V|}$ that outputs a feature vector:\n",
        "$$\\phi(x) = \\left(\n",
        "\\begin{array}{c}\n",
        "0 \\\\\n",
        "1 \\\\\n",
        "\\vdots \\\\\n",
        "0 \\\\\n",
        "\\vdots \\\\\n",
        "\\end{array}\n",
        "\\right)\n",
        "\\begin{array}{l}\n",
        "\\; \\text{church} \\\\\n",
        "\\; \\text{doctor} \\\\\n",
        "\\\\\n",
        "\\; \\text{snow}\\\\\n",
        "\\\\\n",
        "\\end{array}\n",
        "$$\n",
        "\n",
        "of dimension $V$. The $j$-th component $\\phi(x)_j$ equals $1$ if $x$ contains the $j$-th word in $V$ and $0$ otherwise."
      ],
      "metadata": {
        "id": "XoPIkKA3rDNH"
      }
    },
    {
      "cell_type": "markdown",
      "source": [
        "Let's see an example of this approach on 20-newsgroups"
      ],
      "metadata": {
        "id": "_F7SSMZetuLe"
      }
    },
    {
      "cell_type": "markdown",
      "source": [
        "We start by computing these features using the **sklearn library**"
      ],
      "metadata": {
        "id": "bpXpILJ8t3cS"
      }
    },
    {
      "cell_type": "code",
      "source": [
        "from sklearn.feature_extraction.text import CountVectorizer\n",
        "\n",
        "# Vectorize the training dataset\n",
        "count_vec = CountVectorizer(binary=True)\n",
        "X_train = count_vec.fit_transform(twenty_train.data)\n",
        "X_train.shape"
      ],
      "metadata": {
        "id": "I352xIZzo8tX"
      },
      "execution_count": null,
      "outputs": []
    },
    {
      "cell_type": "markdown",
      "source": [
        "In `sklearn` we can retrieve the index of $\\phi(x)$ associated with each `word`using the expression `coun_vect.vocabulary_.get(word)`"
      ],
      "metadata": {
        "id": "rNtgsw_iuyh0"
      }
    },
    {
      "cell_type": "code",
      "source": [
        "# The CountVectorizer class records the index j associated with each word in V\n",
        "print('The index for the word \"church\"', count_vec.vocabulary_.get(u'church'))\n",
        "print('The index for the word \"computer\"', count_vec.vocabulary_.get(u'computer'))\n"
      ],
      "metadata": {
        "id": "FLo-QxHTvJFv"
      },
      "execution_count": null,
      "outputs": []
    },
    {
      "cell_type": "markdown",
      "source": [
        "Our featurized dataset is in the matrix `X_train`. We can use the above indices to retrieve the $0-1$ value that has been computed for each word"
      ],
      "metadata": {
        "id": "WGIEB22Fv9Ix"
      }
    },
    {
      "cell_type": "code",
      "source": [
        "# We can estimate if any of these words are present in our previous datapoint \n",
        "print(twenty_train.data[3])\n",
        "\n",
        "# Let's see if it contains these words\n",
        "print('Value at the index for the word \"church\"', X_train[3, count_vec.vocabulary_.get(u\"church\")])\n",
        "print('Value at the index for the word \"computer\"', X_train[3, count_vec.vocabulary_.get(u\"computer\")])\n",
        "print('Value at the index for the word \"slow\"', X_train[3, count_vec.vocabulary_.get(u\"slow\")])\n",
        "print('Value at the index for the word \"relation\"', X_train[3, count_vec.vocabulary_.get(u\"relation\")])"
      ],
      "metadata": {
        "id": "Letv9fdawr3I"
      },
      "execution_count": null,
      "outputs": []
    },
    {
      "cell_type": "markdown",
      "source": [
        "### **Practical Considerations**\n",
        "In practice, we may use some additional modifications of this technique:\n",
        "* Sometimes, we features the $\\phi(x)_j$ for the $j$-th word holds the count of occurences of word $j$ instead of just the binary occurence.\n",
        "* The raw text is usually preprocessed. One common technique is *stemming*, in which we only keep the root of the word.\n",
        " * e.g., \"slowly\" and \"slowness\" both map to \"slow\" \n",
        "* Filtering for common *stopwords* such as \"the\", \"a\", \"and\". Similarly, rare words are also typically excluded."
      ],
      "metadata": {
        "id": "PscNMJWXyQYS"
      }
    },
    {
      "cell_type": "markdown",
      "source": [
        "### **Classification using the BoW Features**\n",
        "Let's now have a look at the performance of classification over bag of words features.\n",
        "\n",
        "Now that we have a feature representation $\\phi(x)$, we can apply the classifier of oour choice, such as logistic regression."
      ],
      "metadata": {
        "id": "iRgr4a0TzlQ1"
      }
    },
    {
      "cell_type": "code",
      "source": [
        "from sklearn.linear_model import LogisticRegression\n",
        "\n",
        "# Create an instance of Softma Regressiion and fit the data\n",
        "logreg = LogisticRegression(C=1e5, multi_class='multinomial', verbose=True)\n",
        "logreg.fit(X_train, twenty_train.target)"
      ],
      "metadata": {
        "id": "qvKzU3HWx030"
      },
      "execution_count": null,
      "outputs": []
    },
    {
      "cell_type": "markdown",
      "source": [
        "And now we can use this model for predicting on new imputs "
      ],
      "metadata": {
        "id": "vvMgKE4B03dh"
      }
    },
    {
      "cell_type": "code",
      "source": [
        "docs_new = ['God is simple','take a medicine']\n",
        "\n",
        "X_new = count_vec.transform(docs_new)\n",
        "predicted = logreg.predict(X_new)\n",
        "\n",
        "for doc, category in zip(docs_new ,predicted):\n",
        "  print('%r -> %s' % (doc, twenty_train.target_names[category]))"
      ],
      "metadata": {
        "id": "L4CBEEnU0nQC"
      },
      "execution_count": null,
      "outputs": []
    },
    {
      "cell_type": "markdown",
      "source": [
        "### **Summary of Text Classification**\n",
        "* Classifying text normally requires specifying features over the raw data.\n",
        "* A widely used representation is \"bag of words\", in which features are occurences or counts of words.\n",
        "* Once text is featurized, any off-the-shell supervised learning algorithms can be applied, but some work better than others, we will see next."
      ],
      "metadata": {
        "id": "Viks7w5U2MSN"
      }
    },
    {
      "cell_type": "markdown",
      "source": [
        "## **Part 2: Naive Bayes**\n",
        "Next, we are going to look at Naive Bayes - a generative classification algorithm. We will apply naive bayes to text classification problem. "
      ],
      "metadata": {
        "id": "Vm85ps7UQafM"
      }
    },
    {
      "cell_type": "markdown",
      "source": [
        "### **Review: Generative Models**\n",
        "There are two types of probabilistic models: *generative* and *discriminative*\n",
        "$$\\underbrace{P_{theta}(x,y): \\mathcal{X} \\times \\mathcal{Y} \\to [0,1]}_{text{generative models}}  \\; \\;   \\underbrace{P_{\\theta}(y \\mid x): \\mathcal{X} \\times \\mathcal{Y} \\to [0,1]}_{\\text{discriminative models}}$$\n",
        "\n",
        "Given a new data point $x'$, we can match it against each class model and find the class that looks most similar to it.\n",
        " $$\\arg\\max_y\\log p(y\\mid x) = \\arg\\max_y\\log \\frac{p(x \\mid y)p(y)}{p(x)} = \\arg\\max_y \\log p(x \\mid y)p(y),$$\n",
        " where we have applied the Bayes' rule in the second equation."
      ],
      "metadata": {
        "id": "HvO_5dLDRBzC"
      }
    },
    {
      "cell_type": "markdown",
      "source": [
        "### **Review: Gaussian Mixture Model**\n",
        "The GDA algorithm defines the following model family:\n",
        "* The probability $P(x \\mid y = k)$ of the data under class $k$ is a multivariate Gaussian $\\mathcal{N}(x; \\mu_k, \\Sigma_k)$ with parameters $\\mu_k, \\Sigma_k$.\n",
        "* The distribution over classses is [Categorical](), denoted $\\text{Categorical}(\\phi_1,\\phi_2,\\dots,\\phi_K)$. Thus, $P_{\\theta}(y=k) = \\phi_k$\n",
        "\n",
        "Thus, $P_{\\theta}(x,y)$ is a mixture of $K$ Gaussians:\n",
        "$$P_{\\theta}(x,y) = \\sum_{k=1}^KP_{\\theta}(y=k)P_{\\theta}(x \\mid y=k) = \\sum_{k=1}^K\\phi_k\\mathcal{N}(x;\\mu_k,\\Sigma_k)$$"
      ],
      "metadata": {
        "id": "YqbjBssaS-5a"
      }
    },
    {
      "cell_type": "markdown",
      "source": [
        "### **Problem 1: Discrete data**\n",
        "What would happen if we used GDA to perform text classification? The first problem we face is that the input data discrete.\n",
        "$$\\phi(x) = \\left(\n",
        "\\begin{array}{c}\n",
        "0 \\\\\n",
        "1 \\\\\n",
        "\\vdots \\\\\n",
        "0 \\\\\n",
        "\\vdots \\\\\n",
        "\\end{array}\n",
        "\\right)\n",
        "\\begin{array}{l}\n",
        "\\; \\text{church} \\\\\n",
        "\\; \\text{doctor} \\\\\n",
        "\\\\\n",
        "\\; \\text{snow}\\\\\n",
        "\\\\\n",
        "\\end{array}\n",
        "$$\n",
        "This data does not follow a Normal distribution, hence the GDA is clearly misspecified."
      ],
      "metadata": {
        "id": "i5WYY8hCU52X"
      }
    },
    {
      "cell_type": "markdown",
      "source": [
        "### **Problem 2: High Dimensionality**\n",
        "A first solution is to assume that $x$ is sampled from a Categorical distribution that assigns a probability to each possible state of $x$.\n",
        "$$\n",
        "p(x) = p \\left( \n",
        "\\begin{array}{c}\n",
        "0 \\\\\n",
        "1 \\\\\n",
        "0 \\\\\n",
        "\\vdots \\\\\n",
        "0 \n",
        "\\end{array}\n",
        "\\right.\n",
        "\\left.\n",
        "\\begin{array}{l}\n",
        "\\;\\text{church} \\\\\n",
        "\\;\\text{doctor} \\\\\n",
        "\\;\\text{fervently} \\\\\n",
        "\\vdots \\\\\n",
        "\\;\\text{purple}\n",
        "\\end{array}\n",
        "\\right) = 0.0012\n",
        "$$\n",
        "\n",
        "However, if the dimension of $d$ of $x$ is high (e.g. vocabulary has size 10,000) $x$ can take a huge number of values ($2^{10000}$ in our example). We need to specify $2^d - 1$ parameters for the categorical distribution."
      ],
      "metadata": {
        "id": "r3t-ZBhdU6Bz"
      }
    },
    {
      "cell_type": "markdown",
      "source": [
        "### **Naive Bayes Assumption**\n",
        "In order to deal with high dimensional $x$, we simplify the problem by making the Naive Bayes Assumption:\n",
        "$$p(x\\mid y) = \\prod_{j=1}^dp(x_j \\mid y)$$\n",
        "\n",
        "In other words, the probability $p(x \\mid y)$ is factorized over each dimension.\n",
        "* For example, if $x$ is a binary bag of words representation, then $p(x_j \\mid y)$ is the probablity of seeing the $j$-th word.\n",
        "*We can model each $p(x_j \\mid y )$ via a Bernoulli distribution, which has only one parameter.\n",
        "* Hence, it takes only $d$ parameters (instead of $2^d - 1$) to specify the entire distribution $p(x \\mid y) =  \\prod_{j=1}^dp(x_j \\mid y).$"
      ],
      "metadata": {
        "id": "pqVcgWWUU6N5"
      }
    },
    {
      "cell_type": "markdown",
      "source": [
        "### **Bernoulli Naive Bayes Model**\n",
        "We can apply the Naive Bayes assumption to obtain a model when $x$ is in a bag of words representation.\n",
        "The *Bernoulli Naive Bayes Models* is defined as follows:\n",
        "* The distribution over classes is [Categorical](), denoted $\\text{Categorical}(\\phi_1,\\phi_2,\\dots,\\phi_K)$. Thus, $P(y = k) = \\phi_k$\n",
        "* The conditional probability of the data under class $k$ factorizes as $P(x \\mid y = k ) = \\prod_{j=1}^d P(x_j \\mid y = k)$ (the Naive Bayes assumption), where each $P(x_j \\mid y = k)$ is a $\\text{Bernoulli}(\\psi_{jk})$.\n",
        "\n",
        "Formally, we have \n",
        "\n",
        "\\begin{align*}\n",
        "P_{\\theta}(y) &= \\text{Categorical}(\\phi_1,\\phi_2,\\dots,\\phi_K) \\\\\n",
        "P(x_j = 1 \\mid y = k) &= \\text{Bernoulli}(\\psi_{jk}) \\\\\n",
        "P(x \\mid y = k ) &= \\prod_{j=1}^d P(x_j \\mid y = k)\n",
        "\\end{align*}"
      ],
      "metadata": {
        "id": "6M5mZQt2YHxE"
      }
    },
    {
      "cell_type": "markdown",
      "source": [
        "## **Part 3: Naive Bayes Learning**\n",
        "We are going to continue our discussion of Naive Bayes.\n",
        "\n",
        "We will now turn our attention to learning the parameters of the model and using them to make predictions."
      ],
      "metadata": {
        "id": "yhD5yguIaHkZ"
      }
    },
    {
      "cell_type": "markdown",
      "source": [
        "### **Review: Maximum Likelihood Learning**\n",
        "In order to fit the probabilistic models, we use the following objective:\n",
        "$$\\max_{\\theta}\\mathbb{E}_{x,y \\sim \\mathbb{P}}\\log P_{\\theta}(x,y).$$\n",
        "\n",
        "This seeks to find a model that assigns high probability to the training data.\n",
        "\n",
        "Let's use the maximum likelihood to fit the Bernoulli Naive Bayes Model. Note that model parameters is the union of the parameters of each sub-model:\n",
        "$$\\theta = (\\phi_!,\\phi_2, \\dots, \\phi_K, \\psi_{11}, \\psi_{21}, \\dots, \\psi_{dK}).$$"
      ],
      "metadata": {
        "id": "gZWKhmiNax8U"
      }
    },
    {
      "cell_type": "markdown",
      "source": [
        "### **Learning a Bernoulli Naive Bayes Model**\n",
        "Given a training set $\\mathcal{D}$, we want to optimize the log-likelihood $\\ell(\\theta) = \\log L(\\theta):$\n",
        "\\begin{align*}\n",
        "\\ell(\\theta) &= \\sum_{i=1}^n \\log P_{\\theta}(x^{(i)},y^{(i)}) = \\sum_{i=1}^n\\log P_{\\theta}(x^{(i)} \\mid y^{(i)}) + \\sum_{i=1}^n \\log P_{\\theta}(y^{(i)}) \\\\\n",
        "&= \\sum_{k=1}^K \\sum_{j=1}^d \\underbrace{\\sum_{i: y^{(i)} = k}\\log P(x_j^{(i)} \\mid y^{(i)}; \\psi_{jk})}_{\\text{all the terms that involve} ~ \\psi_{jk}} + \\underbrace{\\sum_{i=1}^n \\log P(y^{(i)};\\vec{\\phi}) }_{\\text{all the terms that involve} ~ \\vec{\\phi}}\n",
        ".\\end{align*}\n",
        "\n",
        "Notice that each parameter $\\psi_{jk}$ is found in only one subset of terms and the $\\phi_k$ are also is found in the same set of terms.\n",
        "\n",
        "As in Gaussian Discriminant Analysis, the log-likelihood decomposes into a sum of terms. To optimize for some $\\psi_{jk}$, we only need to look at the set of terms that contain $\\psi_{jk}$\n",
        "$$\\arg\\max_{\\psi_{jk}}\\ell(\\theta) = \\arg \\max_{\\psi_{jk}}\\sum_{i:y^{(i)}=k}\\log p(x_j^{(i)}\\mid y^{(i)};\\psi_{jk}).$$\n",
        "\n",
        "Similarly, optimizing for $\\vec{\\phi} = (\\phi_1,\\phi_2, \\dots,\\phi_K)$ only involves a single term:\n",
        "$$\\max_{\\vec{\\phi}}\\sum_{i=1}^n\\log P_{\\theta}(x^{(i)},y^{(i)};\\vec{\\phi}) = \\max_{\\vec{\\phi}}\\sum_{i=1}^n \\log P_{\\theta}(y^{(i)};\\vec{\\phi})$$"
      ],
      "metadata": {
        "id": "b2jh3SJ1cX0f"
      }
    },
    {
      "cell_type": "markdown",
      "source": [
        "### **Optimizing the Model Paramaters**\n",
        "These observations greatly simplify the optimization of the model. Let's first consider the optimization over $\\vec{\\phi} = (\\phi_1,\\phi_2, \\dots,\\phi_K)$.\n",
        "\n",
        "As in Gaussian Discriminant Analysis, we can take the derivative over $\\phi_k$ and set it to zero to obtain:\n",
        "$$\\phi_k = \\frac{n_k}{n}$$\n",
        "for each $k$, where $n_k=|\\{i:y^{(i)}=k\\}|$ is the number of training targets with class $k$.\n",
        "\n",
        "Thus, the optimal $\\phi_k$ is just the proportion of data points with class $k$ in the training set!\n",
        "\n",
        "Similarly, we can maximize the likelihood for the other parameters to obtain closed form solution:\n",
        "$$\\psi_{jk} = \\frac{n_{jk}}{n},$$\n",
        "\n",
        "where $|\\{i: x_j^{(i)} = 1, y^{(i)} = k\\}|$ is the number of $x^{(i)}$ with label $k$ and a possitive occurence of word $j$-th.\n",
        "\n",
        "Each $\\psi_{jk}$ is simply the proportion of documents in class $k$ that cotain the word $j$-th."
      ],
      "metadata": {
        "id": "MS_fNSvGJdZ1"
      }
    },
    {
      "cell_type": "markdown",
      "source": [
        "### **Querying the Model**\n",
        "How do we ask the model for predictions? As discussed earlier, we applied Bayes' rule \n",
        "$$\\arg\\max_y P_{\\theta}(y\\mid x) = \\arg\\max_y P_{\\theta}(x\\mid y)P(y).$$\n",
        "\n",
        "Thus, we can estimate the probability of $x$ under each $P_{\\theta}(x\\mid y)P(y)$ and choose the class that explains the data best."
      ],
      "metadata": {
        "id": "9EdFdL-LM5F_"
      }
    },
    {
      "cell_type": "markdown",
      "source": [
        "### **Classification Dataset: 20-Newsgroups**\n",
        "\n",
        "Let's load the dataset"
      ],
      "metadata": {
        "id": "dOs0jTPQOANq"
      }
    },
    {
      "cell_type": "code",
      "source": [
        "import numpy as np\n",
        "import pandas as pd\n",
        "from sklearn.datasets import fetch_20newsgroups\n",
        "\n",
        "# for this lecture, we will restrict our attention to just 4 different newsgroups:\n",
        "categories = ['alt.atheism', 'soc.religion.christian', 'comp.graphics', 'sci.med']\n",
        "\n",
        "# load the dataset\n",
        "twenty_train = fetch_20newsgroups(subset='train', categories=categories, shuffle=True, random_state=42)\n",
        "\n",
        "# print some information on it\n",
        "print(twenty_train.DESCR)"
      ],
      "metadata": {
        "id": "CUYIjMS3RBQS"
      },
      "execution_count": null,
      "outputs": []
    },
    {
      "cell_type": "markdown",
      "source": [
        "### **Example: Text Classification**\n",
        "\n",
        "Let's see how this approach can be used in practice on the text classification dataset.\n",
        "* We will learn a good set of parameters for a Bernoulli Naive Bayes Model.\n",
        "* We will compare the outputs to the true predictions."
      ],
      "metadata": {
        "id": "d6QsStIFO5Qs"
      }
    },
    {
      "cell_type": "code",
      "source": [
        "from sklearn.feature_extraction.text import CountVectorizer\n",
        "\n",
        "# Vectorize the training set\n",
        "count_vec = CountVectorizer(binary=True,max_features=1000)\n",
        "y_train = twenty_train.target\n",
        "X_train = count_vec.fit_transform(twenty_train.data).toarray()\n",
        "X_train.shape"
      ],
      "metadata": {
        "id": "0mdn-6U5Q8Ab"
      },
      "execution_count": null,
      "outputs": []
    },
    {
      "cell_type": "markdown",
      "source": [
        "Let's compute the maximum likelihood model parameters on our dataset"
      ],
      "metadata": {
        "id": "wm8kXNXPRR5D"
      }
    },
    {
      "cell_type": "code",
      "source": [
        "n = X_train.shape[0] # size of the dataset\n",
        "d = X_train.shape[1] # number of features in pur dataset\n",
        "K = 4                # number of classes\n",
        "\n",
        "# These are shapes of the parameters\n",
        "psis = np.zeros([K,d])\n",
        "phis = np.zeros([K])\n",
        "# We now compute the parameters\n",
        "for k in range(K):\n",
        "  X_k = X_train[y_train==k]\n",
        "  psis[k] = np.mean(X_k, axis=0)\n",
        "  phis[k] = X_k.shape[0]/float(n)\n",
        "\n",
        "# print out the class proportions\n",
        "print(phis)\n",
        "print(psis)"
      ],
      "metadata": {
        "id": "u4IAIa4815qy"
      },
      "execution_count": null,
      "outputs": []
    },
    {
      "cell_type": "markdown",
      "source": [
        "We can compute predictions using Bayes' rule"
      ],
      "metadata": {
        "id": "bvpY9CsqS_gJ"
      }
    },
    {
      "cell_type": "code",
      "source": [
        "# We can implement this in numpy \n",
        "def nb_predictions(x,psis,phis):\n",
        "  \"\"\"This returns class assignments and scores under the NB model\n",
        "  We compute \\arg\\max_y p(y | x) as \\arg\\max_y p(x|y)p(y)\n",
        "  \"\"\"\n",
        "  # Adjust shape\n",
        "  n, d = x.shape\n",
        "  x = np.reshape(x, (1,n,d))\n",
        "  psis = np.reshape(psis, (K,1,d))\n",
        "\n",
        "  # Clip probability to avoid log(0)\n",
        "  psis = psis.clip(1e-14, 1-1e-14)\n",
        "\n",
        "  # Compute the log-probabilities\n",
        "  logpy = np.log(phis).reshape([K,1])\n",
        "  logpxy = x*np.log(psis) + (1-x)*np.log(1-psis)\n",
        "  logpyx = logpxy.sum(axis=2) + logpy\n",
        "\n",
        "  return logpyx.argmax(axis=0).flatten(), logpyx.reshape([K,n])\n",
        "\n",
        "idx, logpyx = nb_predictions(X_train, psis, phis)\n",
        "print(idx[:10])\n",
        "print(logpyx)"
      ],
      "metadata": {
        "id": "Z1IvCfnTSfgU"
      },
      "execution_count": null,
      "outputs": []
    },
    {
      "cell_type": "markdown",
      "source": [
        "We can measure the accuracy on the training set"
      ],
      "metadata": {
        "id": "tH0PSP26X_W5"
      }
    },
    {
      "cell_type": "code",
      "source": [
        "(idx==y_train).mean()"
      ],
      "metadata": {
        "id": "dnke8pAXX5Ef"
      },
      "execution_count": null,
      "outputs": []
    },
    {
      "cell_type": "code",
      "source": [
        "docs_new = ['Open GL is fast', 'God is love','I don\\'t wanna go to hospital']\n",
        "\n",
        "X_new = count_vec.transform(docs_new).toarray()\n",
        "predicted, logpyx_new = nb_predictions(X_new, psis,phis)\n",
        "\n",
        "for doc, category in zip(docs_new, predicted):\n",
        "  print('%r -> %s'% (doc, twenty_train.target_names[category]))"
      ],
      "metadata": {
        "id": "Y17V3eRNYKM4"
      },
      "execution_count": null,
      "outputs": []
    },
    {
      "cell_type": "markdown",
      "source": [
        "### **Algorithm: Bernoulli Naive Bayes**\n",
        "* **Type:** Supervised learning (multi-class classification)\n",
        "* **Model Family:** Mixtures of BErnoulli distributions\n",
        "* **Objective function:** Log-Likelihood\n",
        "* **Optimizer:** closed form solution"
      ],
      "metadata": {
        "id": "kPt82_agY_Zm"
      }
    },
    {
      "cell_type": "markdown",
      "source": [
        "## **Part 4: Discriminative vs. Generative Algorithms**\n",
        "\n",
        "We conclude our lecture on generative algorithms by visiting the question of how they compare to discriminatiive algorithms."
      ],
      "metadata": {
        "id": "uPesIvUnbFN9"
      }
    },
    {
      "cell_type": "markdown",
      "source": [
        "### **Classification Dataset: Iris Flowers**"
      ],
      "metadata": {
        "id": "a20fyVCJbxZr"
      }
    },
    {
      "cell_type": "code",
      "source": [
        "import numpy as np\n",
        "import pandas as pd\n",
        "import warnings\n",
        "warnings.filterwarnings('ignore')\n",
        "from sklearn import datasets\n",
        "\n",
        "# Load the Iris dataset\n",
        "iris = datasets.load_iris(as_frame=True)\n",
        "\n",
        "# print part of the dataset\n",
        "iris_X, iris_y = iris.data, iris.target\n",
        "pd.concat([iris_X, iris_y], axis=1).head()"
      ],
      "metadata": {
        "id": "74T6iAW2b3c6"
      },
      "execution_count": null,
      "outputs": []
    },
    {
      "cell_type": "markdown",
      "source": [
        "If we only consider the first two feature columns, we can visualize the dataset in 2D."
      ],
      "metadata": {
        "id": "maP6F9sMb67F"
      }
    },
    {
      "cell_type": "code",
      "source": [
        "%matplotlib inline\n",
        "from matplotlib import pyplot as plt\n",
        "plt.rcParams['figure.figsize'] = [12, 4]\n",
        "\n",
        "# create 2d version of dataset\n",
        "X = iris_X.to_numpy()[:,:2]\n",
        "x_min, x_max = X[:, 0].min() - .5, X[:, 0].max() + .5\n",
        "y_min, y_max = X[:, 1].min() - .5, X[:, 1].max() + .5\n",
        "\n",
        "# Plot also the training points\n",
        "p1 = plt.scatter(X[:, 0], X[:, 1], c=iris_y, edgecolor='k', s=60, cmap=plt.cm.Paired)\n",
        "plt.xlabel('Sepal Length (cm)')\n",
        "plt.ylabel('Sepal Width (cm)')\n",
        "plt.legend(handles=p1.legend_elements()[0], labels=['Setosa', 'Versicolour', 'Virginica'], loc='lower right')"
      ],
      "metadata": {
        "id": "z44vJXr3b88b"
      },
      "execution_count": null,
      "outputs": []
    },
    {
      "cell_type": "markdown",
      "source": [
        "### **Linear Discriminant Analysis**\n",
        "\n",
        "When the covariance $\\Sigma_k$ in GDA are equal, we have an algorithm called Linear Discriminant Analysis or LDA.\n",
        "\n",
        "Let's try this algorithm on Iris dataset.\n",
        "\n",
        "We may compute the parameters of this model similarly to how we did for GDA."
      ],
      "metadata": {
        "id": "ZUyD4XZ-cFHQ"
      }
    },
    {
      "cell_type": "code",
      "source": [
        "d = 2\n",
        "K = 3\n",
        "n = X.shape[0]\n",
        "\n",
        "# These are the shapes of the parameters\n",
        "mus = np.zeros([K,d])\n",
        "Sigmas = np.zeros([K,d,d])\n",
        "phis = np.zeros([K])\n",
        "\n",
        "# We can now compute the parameters\n",
        "for k in range(3):\n",
        "  X_k = X[iris_y == k]\n",
        "  mus[k] = np.mean(X_k, axis=0)\n",
        "  Sigmas[k] = np.cov(X.T) # this is now X.T insttead of X_k.T\n",
        "  phis[k] = X_k.shape[0] / float(n)\n",
        "\n",
        "# print out the means\n",
        "print(mus)"
      ],
      "metadata": {
        "id": "GVlrOd5HNH6k"
      },
      "execution_count": null,
      "outputs": []
    },
    {
      "cell_type": "markdown",
      "source": [
        "We can compute predictions using Bayes' rule"
      ],
      "metadata": {
        "id": "JN3zL6wlPKMP"
      }
    },
    {
      "cell_type": "code",
      "source": [
        "def gda_predictions(x, mus, sigmas, phis):\n",
        "  # Adjust shape\n",
        "  n, d = x.shape\n",
        "  x = np.reshape(x, (1,n,d,1))\n",
        "  mus = np.reshape(mus, (K,1,d,1))\n",
        "  sigmas = np.reshape(Sigmas, (K,1,d,d))\n",
        "\n",
        "  # compute probability \n",
        "  py = np.tile(phis.reshape((K,1)), (1,n)).reshape([K,n,1,1])\n",
        "  pxy = (\n",
        "      np.sqrt(np.abs((2*np.pi)**d*np.linalg.det(sigmas))).reshape([K,1,1,1])\n",
        "      * -0.5*np.exp(\n",
        "          np.matmul(np.matmul((x-mus).transpose([0,1,3,2]), np.linalg.inv(sigmas)), x-mus)\n",
        "      )\n",
        "  )\n",
        "  pyx = pxy*py\n",
        "\n",
        "  return pyx.argmax(axis=0).flatten(), pyx.reshape([K,n])\n",
        "\n",
        "idx, pyx = gda_predictions(X, mus, Sigmas, phis)\n",
        "print(idx)"
      ],
      "metadata": {
        "id": "6-PgsZBLOov0"
      },
      "execution_count": null,
      "outputs": []
    },
    {
      "cell_type": "markdown",
      "source": [
        "We visualize the predictions we dis earlier"
      ],
      "metadata": {
        "id": "Y8JguDhMSAMs"
      }
    },
    {
      "cell_type": "code",
      "source": [
        "from matplotlib.colors import LogNorm\n",
        "xx, yy = np.meshgrid(np.arange(x_min,x_max,0.02), np.arange(y_min, y_max, 0.02))\n",
        "Z, pyx = gda_predictions(np.c_[xx.ravel(), yy.ravel()], mus, Sigmas, phis)\n",
        "logpy = np.log(-1./3*pyx)\n",
        "\n",
        "# Put the result into a color plot\n",
        "Z = Z.reshape(xx.shape)\n",
        "contours = np.zeros([K, xx.shape[0], xx.shape[1]])\n",
        "for k in range(K):\n",
        "  contours[k] = logpy[k].reshape(xx.shape)\n",
        "plt.pcolormesh(xx,yy,Z,cmap=plt.cm.Paired)\n",
        "\n",
        "# Plot also the training points\n",
        "plt.scatter(X[:,0], X[:,1], c=iris_y, s=40, cmap=plt.cm.Paired, edgecolor='k')\n",
        "plt.xlabel('Sepal length')\n",
        "plt.ylabel('Sepal width')\n",
        "\n",
        "plt.show()\n",
        "\n"
      ],
      "metadata": {
        "id": "CTIh_wIqRdnm"
      },
      "execution_count": null,
      "outputs": []
    },
    {
      "cell_type": "markdown",
      "source": [
        "Linear Disciminant Analysis outputs the decision boundaries that are linear.\n",
        "\n",
        "Softmax or Logistic regression also produce linear boundaries. In fact, both types of algorithms make us of the same model class.\n",
        "\n",
        "What is their differences then?"
      ],
      "metadata": {
        "id": "11ZJmQ2_UFUr"
      }
    },
    {
      "cell_type": "markdown",
      "source": [
        "### **Generative vs. Discriminative Model Classes**\n",
        "In binary classification, we can also show that the conditional probability $P_{\\theta}(y \\mid x)$ of a Bernoulli Naive Bayes for LDA model has the form:\n",
        "$$P_{\\theta}(y \\mid x) = \\frac{P_{\\theta}(x\\mid y)P_{\\theta}(y)}{\\sum_{y' \\in \\mathcal{Y}}P_{\\theta}(x\\mid y')P_{\\theta}(y')} = \\frac{1}{1 + \\exp(-\\gamma^\\top x)}$$\n",
        "\n",
        "for some set of parameters $\\gamma$ (whose expression can be derived from $\\theta$), which is the same form as Logistic Regression!\n",
        "\n",
        "Does it mean that the two sets of algorithms are equivalent? No! They assume the same model class $\\mathcal{M}$, they use a different objective $J$ to select a model in $\\mathcal{M}$"
      ],
      "metadata": {
        "id": "bdAHbaJbUvw4"
      }
    },
    {
      "cell_type": "markdown",
      "source": [
        "### **Generative Model vs. Logistic Regression**\n",
        "Given that both algorithms find linear boundaries, how should one choose between two?\n",
        "\n",
        "* Bernoulli Naive Bayes or LDA assumes a logistic form for $p(y\\mid x)$. But converse is not true: logistic regression does not assume a NB or LDA model for $p(x,y)$.\n",
        "* Generative models make stronger modelling assumption. If these assumptions hold true, the generative models will perform better.\n",
        "* But if they don't, logistic regression will be more robust to outliers and model misspecification, and achieve higher accuracy."
      ],
      "metadata": {
        "id": "Kv5PBCuZW96B"
      }
    },
    {
      "cell_type": "markdown",
      "source": [
        "### **Other features of Generative Models**\n",
        "Generative models can also do things that discriminative models can't do\n",
        "* Generation: we can sample $x \\sim p(x\\mid y)$ to generate new data (images, audio, etc.)\n",
        "* Missing value imputation: if $x_j$ is missing, we can infer it using $p(x\\mid y)$\n",
        "* Outlie detection: given a new $x'$, we can try detecting via $p(x')$ if $x'$ is invalid"
      ],
      "metadata": {
        "id": "R_YsAiscYTb7"
      }
    },
    {
      "cell_type": "markdown",
      "source": [
        "### **Discriminative Approaches**\n",
        "\n",
        "Discriminative algorithms are deservingly very popular\n",
        "* Most state-of-the-art algorithms for classifications are discriminative.\n",
        "* They are often more accurate because they make fewer modeling assumptions"
      ],
      "metadata": {
        "id": "UwXSKHsMZNtq"
      }
    },
    {
      "cell_type": "markdown",
      "source": [
        "### **Generative Approaches**\n",
        "But generative models have many advantages\n",
        "* Can do more than just prediction: generation, fill-in missing value features, etc.\n",
        "* Can include extra prior knowledge: if prior knowledge is correct, model will be more accurate.\n",
        "* Often have closed form solution, hence are faster to train."
      ],
      "metadata": {
        "id": "CYBKj0dNZ119"
      }
    }
  ]
}